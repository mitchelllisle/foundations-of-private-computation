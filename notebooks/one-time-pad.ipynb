{
 "cells": [
  {
   "cell_type": "code",
   "execution_count": 1,
   "id": "5151224f-b8dc-4b98-8174-f383e56ba630",
   "metadata": {
    "partialCollapse": true,
    "tags": []
   },
   "outputs": [],
   "source": [
    "## Run this if privcomp is not installed\n",
    "# !pip3 install -e ../."
   ]
  },
  {
   "cell_type": "code",
   "execution_count": 1,
   "id": "f4e4935d-9bfd-4c57-b2ab-d172c054d62a",
   "metadata": {},
   "outputs": [],
   "source": [
    "from privcomp import OneTimePad, VigenereCipher, letter_count, Colours\n",
    "import altair as alt\n",
    "import pandas as pd"
   ]
  },
  {
   "cell_type": "code",
   "execution_count": 2,
   "id": "d9cc2c61-2f37-427c-958c-a56396db8422",
   "metadata": {},
   "outputs": [],
   "source": [
    "def plot_letter_count(title: str, text: str, x=\"letter\", y=\"occurences\", **kwargs) -> alt.Chart:\n",
    "    text_counts = pd.DataFrame(letter_count(text), columns=[\"letter\", \"occurences\"])\n",
    "    return alt.Chart(text_counts).mark_bar().encode(\n",
    "        x=alt.X(x, sort=\"-y\"),\n",
    "        y=y,\n",
    "    ).properties(\n",
    "        title={\n",
    "            \"text\": title, \n",
    "            \"subtitle\": kwargs.get(\"subtitle\", \"\"),\n",
    "            \"anchor\": \"start\",\n",
    "            \"dy\": -15,\n",
    "            \"fontSize\": 15,\n",
    "            \"subtitleFontSize\": 13\n",
    "        }\n",
    "    )"
   ]
  },
  {
   "cell_type": "markdown",
   "id": "a7ce921e-ce08-4b3a-bc9a-8a40bf836838",
   "metadata": {
    "tags": []
   },
   "source": [
    "## 1984 Letter Distribution"
   ]
  },
  {
   "cell_type": "code",
   "execution_count": 3,
   "id": "240a637c-4f18-43f1-853c-f42c0a5ac1ce",
   "metadata": {
    "tags": []
   },
   "outputs": [
    {
     "data": {
      "text/html": [
       "\n",
       "<div id=\"altair-viz-b2163da8e61443bba4ddaa108fbb256b\"></div>\n",
       "<script type=\"text/javascript\">\n",
       "  var VEGA_DEBUG = (typeof VEGA_DEBUG == \"undefined\") ? {} : VEGA_DEBUG;\n",
       "  (function(spec, embedOpt){\n",
       "    let outputDiv = document.currentScript.previousElementSibling;\n",
       "    if (outputDiv.id !== \"altair-viz-b2163da8e61443bba4ddaa108fbb256b\") {\n",
       "      outputDiv = document.getElementById(\"altair-viz-b2163da8e61443bba4ddaa108fbb256b\");\n",
       "    }\n",
       "    const paths = {\n",
       "      \"vega\": \"https://cdn.jsdelivr.net/npm//vega@5?noext\",\n",
       "      \"vega-lib\": \"https://cdn.jsdelivr.net/npm//vega-lib?noext\",\n",
       "      \"vega-lite\": \"https://cdn.jsdelivr.net/npm//vega-lite@4.17.0?noext\",\n",
       "      \"vega-embed\": \"https://cdn.jsdelivr.net/npm//vega-embed@6?noext\",\n",
       "    };\n",
       "\n",
       "    function maybeLoadScript(lib, version) {\n",
       "      var key = `${lib.replace(\"-\", \"\")}_version`;\n",
       "      return (VEGA_DEBUG[key] == version) ?\n",
       "        Promise.resolve(paths[lib]) :\n",
       "        new Promise(function(resolve, reject) {\n",
       "          var s = document.createElement('script');\n",
       "          document.getElementsByTagName(\"head\")[0].appendChild(s);\n",
       "          s.async = true;\n",
       "          s.onload = () => {\n",
       "            VEGA_DEBUG[key] = version;\n",
       "            return resolve(paths[lib]);\n",
       "          };\n",
       "          s.onerror = () => reject(`Error loading script: ${paths[lib]}`);\n",
       "          s.src = paths[lib];\n",
       "        });\n",
       "    }\n",
       "\n",
       "    function showError(err) {\n",
       "      outputDiv.innerHTML = `<div class=\"error\" style=\"color:red;\">${err}</div>`;\n",
       "      throw err;\n",
       "    }\n",
       "\n",
       "    function displayChart(vegaEmbed) {\n",
       "      vegaEmbed(outputDiv, spec, embedOpt)\n",
       "        .catch(err => showError(`Javascript Error: ${err.message}<br>This usually means there's a typo in your chart specification. See the javascript console for the full traceback.`));\n",
       "    }\n",
       "\n",
       "    if(typeof define === \"function\" && define.amd) {\n",
       "      requirejs.config({paths});\n",
       "      require([\"vega-embed\"], displayChart, err => showError(`Error loading script: ${err.message}`));\n",
       "    } else {\n",
       "      maybeLoadScript(\"vega\", \"5\")\n",
       "        .then(() => maybeLoadScript(\"vega-lite\", \"4.17.0\"))\n",
       "        .then(() => maybeLoadScript(\"vega-embed\", \"6\"))\n",
       "        .catch(showError)\n",
       "        .then(() => displayChart(vegaEmbed));\n",
       "    }\n",
       "  })({\"config\": {\"view\": {\"continuousWidth\": 400, \"continuousHeight\": 300}, \"mark\": {\"color\": \"#f2617a\"}}, \"data\": {\"name\": \"data-b4c9ace2ba2e35c39a8deba84daca4fa\"}, \"mark\": \"bar\", \"encoding\": {\"x\": {\"field\": \"letter\", \"sort\": \"-y\", \"type\": \"nominal\"}, \"y\": {\"field\": \"occurences\", \"type\": \"quantitative\"}}, \"title\": {\"text\": \"1984 Letter Distribution\", \"subtitle\": \"\", \"anchor\": \"start\", \"dy\": -15, \"fontSize\": 15, \"subtitleFontSize\": 13}, \"$schema\": \"https://vega.github.io/schema/vega-lite/v4.17.0.json\", \"datasets\": {\"data-b4c9ace2ba2e35c39a8deba84daca4fa\": [{\"letter\": \"e\", \"occurences\": 59523}, {\"letter\": \"t\", \"occurences\": 43796}, {\"letter\": \"a\", \"occurences\": 36460}, {\"letter\": \"o\", \"occurences\": 34985}, {\"letter\": \"n\", \"occurences\": 31938}, {\"letter\": \"i\", \"occurences\": 31894}, {\"letter\": \"h\", \"occurences\": 29139}, {\"letter\": \"s\", \"occurences\": 28938}, {\"letter\": \"r\", \"occurences\": 26067}, {\"letter\": \"d\", \"occurences\": 19000}, {\"letter\": \"l\", \"occurences\": 18624}, {\"letter\": \"u\", \"occurences\": 13002}, {\"letter\": \"w\", \"occurences\": 12230}, {\"letter\": \"c\", \"occurences\": 11604}, {\"letter\": \"m\", \"occurences\": 10816}, {\"letter\": \"f\", \"occurences\": 10176}, {\"letter\": \"y\", \"occurences\": 9409}, {\"letter\": \"g\", \"occurences\": 9251}, {\"letter\": \"p\", \"occurences\": 8592}, {\"letter\": \"b\", \"occurences\": 7632}, {\"letter\": \"v\", \"occurences\": 4307}, {\"letter\": \"k\", \"occurences\": 3602}, {\"letter\": \"x\", \"occurences\": 791}, {\"letter\": \"j\", \"occurences\": 457}, {\"letter\": \"q\", \"occurences\": 409}, {\"letter\": \"z\", \"occurences\": 306}]}}, {\"mode\": \"vega-lite\"});\n",
       "</script>"
      ],
      "text/plain": [
       "alt.Chart(...)"
      ]
     },
     "execution_count": 3,
     "metadata": {},
     "output_type": "execute_result"
    }
   ],
   "source": [
    "with open(\"../data/1984.txt\") as f:\n",
    "    book = f.read()\n",
    "\n",
    "book = VigenereCipher.clean_text(book)\n",
    "book_counts = plot_letter_count(\"1984 Letter Distribution\", book).configure_mark(color=Colours.red)\n",
    "book_counts"
   ]
  },
  {
   "cell_type": "markdown",
   "id": "9111d654-cab2-4206-adce-a5d19c8ca814",
   "metadata": {},
   "source": [
    "## Letter Distribution with small key (size=1)"
   ]
  },
  {
   "cell_type": "markdown",
   "id": "f6b4b284-abb9-4dc8-ba93-ca3ff8669f9b",
   "metadata": {},
   "source": [
    "We saw with the `MonoAlphabeticCipherAttack` that you can re-construct part of the information from an encrypted message by counting letter frequencies and matching these to known letter distributions. So how can we protect against this? For this we can use `OneTimePad`. First off, lets look at the letter count of the original text, and compare this with the encrypted message when you have a short key"
   ]
  },
  {
   "cell_type": "code",
   "execution_count": 4,
   "id": "22cca360-31fc-4899-a771-a1843985f37f",
   "metadata": {},
   "outputs": [
    {
     "data": {
      "text/html": [
       "\n",
       "<div id=\"altair-viz-ddfeea808cd043a3a128b0ac3246153d\"></div>\n",
       "<script type=\"text/javascript\">\n",
       "  var VEGA_DEBUG = (typeof VEGA_DEBUG == \"undefined\") ? {} : VEGA_DEBUG;\n",
       "  (function(spec, embedOpt){\n",
       "    let outputDiv = document.currentScript.previousElementSibling;\n",
       "    if (outputDiv.id !== \"altair-viz-ddfeea808cd043a3a128b0ac3246153d\") {\n",
       "      outputDiv = document.getElementById(\"altair-viz-ddfeea808cd043a3a128b0ac3246153d\");\n",
       "    }\n",
       "    const paths = {\n",
       "      \"vega\": \"https://cdn.jsdelivr.net/npm//vega@5?noext\",\n",
       "      \"vega-lib\": \"https://cdn.jsdelivr.net/npm//vega-lib?noext\",\n",
       "      \"vega-lite\": \"https://cdn.jsdelivr.net/npm//vega-lite@4.17.0?noext\",\n",
       "      \"vega-embed\": \"https://cdn.jsdelivr.net/npm//vega-embed@6?noext\",\n",
       "    };\n",
       "\n",
       "    function maybeLoadScript(lib, version) {\n",
       "      var key = `${lib.replace(\"-\", \"\")}_version`;\n",
       "      return (VEGA_DEBUG[key] == version) ?\n",
       "        Promise.resolve(paths[lib]) :\n",
       "        new Promise(function(resolve, reject) {\n",
       "          var s = document.createElement('script');\n",
       "          document.getElementsByTagName(\"head\")[0].appendChild(s);\n",
       "          s.async = true;\n",
       "          s.onload = () => {\n",
       "            VEGA_DEBUG[key] = version;\n",
       "            return resolve(paths[lib]);\n",
       "          };\n",
       "          s.onerror = () => reject(`Error loading script: ${paths[lib]}`);\n",
       "          s.src = paths[lib];\n",
       "        });\n",
       "    }\n",
       "\n",
       "    function showError(err) {\n",
       "      outputDiv.innerHTML = `<div class=\"error\" style=\"color:red;\">${err}</div>`;\n",
       "      throw err;\n",
       "    }\n",
       "\n",
       "    function displayChart(vegaEmbed) {\n",
       "      vegaEmbed(outputDiv, spec, embedOpt)\n",
       "        .catch(err => showError(`Javascript Error: ${err.message}<br>This usually means there's a typo in your chart specification. See the javascript console for the full traceback.`));\n",
       "    }\n",
       "\n",
       "    if(typeof define === \"function\" && define.amd) {\n",
       "      requirejs.config({paths});\n",
       "      require([\"vega-embed\"], displayChart, err => showError(`Error loading script: ${err.message}`));\n",
       "    } else {\n",
       "      maybeLoadScript(\"vega\", \"5\")\n",
       "        .then(() => maybeLoadScript(\"vega-lite\", \"4.17.0\"))\n",
       "        .then(() => maybeLoadScript(\"vega-embed\", \"6\"))\n",
       "        .catch(showError)\n",
       "        .then(() => displayChart(vegaEmbed));\n",
       "    }\n",
       "  })({\"config\": {\"view\": {\"continuousWidth\": 400, \"continuousHeight\": 300}, \"mark\": {\"color\": \"#003d4f\"}}, \"data\": {\"name\": \"data-3abc39e12bcbfa68ed34813ddb585b6e\"}, \"mark\": \"bar\", \"encoding\": {\"x\": {\"field\": \"letter\", \"sort\": \"-y\", \"type\": \"nominal\"}, \"y\": {\"field\": \"occurences\", \"type\": \"quantitative\"}}, \"title\": {\"text\": \"Small Key Letter Distribution\", \"subtitle\": \"\", \"anchor\": \"start\", \"dy\": -15, \"fontSize\": 15, \"subtitleFontSize\": 13}, \"$schema\": \"https://vega.github.io/schema/vega-lite/v4.17.0.json\", \"datasets\": {\"data-3abc39e12bcbfa68ed34813ddb585b6e\": [{\"letter\": \"j\", \"occurences\": 59523}, {\"letter\": \"y\", \"occurences\": 43796}, {\"letter\": \"f\", \"occurences\": 36460}, {\"letter\": \"t\", \"occurences\": 34985}, {\"letter\": \"s\", \"occurences\": 31938}, {\"letter\": \"n\", \"occurences\": 31894}, {\"letter\": \"m\", \"occurences\": 29139}, {\"letter\": \"x\", \"occurences\": 28938}, {\"letter\": \"w\", \"occurences\": 26067}, {\"letter\": \"i\", \"occurences\": 19000}, {\"letter\": \"q\", \"occurences\": 18624}, {\"letter\": \"z\", \"occurences\": 13002}, {\"letter\": \"b\", \"occurences\": 12230}, {\"letter\": \"h\", \"occurences\": 11604}, {\"letter\": \"r\", \"occurences\": 10816}, {\"letter\": \"k\", \"occurences\": 10176}, {\"letter\": \"d\", \"occurences\": 9409}, {\"letter\": \"l\", \"occurences\": 9251}, {\"letter\": \"u\", \"occurences\": 8592}, {\"letter\": \"g\", \"occurences\": 7632}, {\"letter\": \"a\", \"occurences\": 4307}, {\"letter\": \"p\", \"occurences\": 3602}, {\"letter\": \"c\", \"occurences\": 791}, {\"letter\": \"o\", \"occurences\": 457}, {\"letter\": \"v\", \"occurences\": 409}, {\"letter\": \"e\", \"occurences\": 306}]}}, {\"mode\": \"vega-lite\"});\n",
       "</script>"
      ],
      "text/plain": [
       "alt.Chart(...)"
      ]
     },
     "execution_count": 4,
     "metadata": {},
     "output_type": "execute_result"
    }
   ],
   "source": [
    "short_key_cipher = VigenereCipher(key=\"f\")\n",
    "encrypted = short_key_cipher.encrypt(book)\n",
    "\n",
    "k1_counts = plot_letter_count(\"Small Key Letter Distribution\", encrypted).configure_mark(color=Colours.blue)\n",
    "k1_counts"
   ]
  },
  {
   "cell_type": "markdown",
   "id": "2d6b2fa3-b969-4a1f-8a3c-8d736b790ca3",
   "metadata": {},
   "source": [
    "It's easy to map our encrypted letters to the original letter by comparing the distributions. We know `e` is the most frequenct letter, therefore we know that our cipher has substituted `j` for `e`. Below we can see that if we look at a `j` in the encrypted string that it maps to `e` in our book text."
   ]
  },
  {
   "cell_type": "code",
   "execution_count": 5,
   "id": "28d139f2-a3ec-4925-ab5f-1fb83df43122",
   "metadata": {},
   "outputs": [
    {
     "data": {
      "text/plain": [
       "('j', 'e')"
      ]
     },
     "execution_count": 5,
     "metadata": {},
     "output_type": "execute_result"
    }
   ],
   "source": [
    "encrypted[4:5], book[4:5]"
   ]
  },
  {
   "cell_type": "markdown",
   "id": "7e9c4465-78e6-4538-b7a6-71654c5b8ab7",
   "metadata": {},
   "source": [
    "What happens when we use a large keysize?"
   ]
  },
  {
   "cell_type": "code",
   "execution_count": 9,
   "id": "74ed40d9-a234-4d52-917d-58c5701c30e4",
   "metadata": {},
   "outputs": [
    {
     "data": {
      "text/html": [
       "\n",
       "<div id=\"altair-viz-c3be1aec809b4a978d206fd9cd212033\"></div>\n",
       "<script type=\"text/javascript\">\n",
       "  var VEGA_DEBUG = (typeof VEGA_DEBUG == \"undefined\") ? {} : VEGA_DEBUG;\n",
       "  (function(spec, embedOpt){\n",
       "    let outputDiv = document.currentScript.previousElementSibling;\n",
       "    if (outputDiv.id !== \"altair-viz-c3be1aec809b4a978d206fd9cd212033\") {\n",
       "      outputDiv = document.getElementById(\"altair-viz-c3be1aec809b4a978d206fd9cd212033\");\n",
       "    }\n",
       "    const paths = {\n",
       "      \"vega\": \"https://cdn.jsdelivr.net/npm//vega@5?noext\",\n",
       "      \"vega-lib\": \"https://cdn.jsdelivr.net/npm//vega-lib?noext\",\n",
       "      \"vega-lite\": \"https://cdn.jsdelivr.net/npm//vega-lite@4.17.0?noext\",\n",
       "      \"vega-embed\": \"https://cdn.jsdelivr.net/npm//vega-embed@6?noext\",\n",
       "    };\n",
       "\n",
       "    function maybeLoadScript(lib, version) {\n",
       "      var key = `${lib.replace(\"-\", \"\")}_version`;\n",
       "      return (VEGA_DEBUG[key] == version) ?\n",
       "        Promise.resolve(paths[lib]) :\n",
       "        new Promise(function(resolve, reject) {\n",
       "          var s = document.createElement('script');\n",
       "          document.getElementsByTagName(\"head\")[0].appendChild(s);\n",
       "          s.async = true;\n",
       "          s.onload = () => {\n",
       "            VEGA_DEBUG[key] = version;\n",
       "            return resolve(paths[lib]);\n",
       "          };\n",
       "          s.onerror = () => reject(`Error loading script: ${paths[lib]}`);\n",
       "          s.src = paths[lib];\n",
       "        });\n",
       "    }\n",
       "\n",
       "    function showError(err) {\n",
       "      outputDiv.innerHTML = `<div class=\"error\" style=\"color:red;\">${err}</div>`;\n",
       "      throw err;\n",
       "    }\n",
       "\n",
       "    function displayChart(vegaEmbed) {\n",
       "      vegaEmbed(outputDiv, spec, embedOpt)\n",
       "        .catch(err => showError(`Javascript Error: ${err.message}<br>This usually means there's a typo in your chart specification. See the javascript console for the full traceback.`));\n",
       "    }\n",
       "\n",
       "    if(typeof define === \"function\" && define.amd) {\n",
       "      requirejs.config({paths});\n",
       "      require([\"vega-embed\"], displayChart, err => showError(`Error loading script: ${err.message}`));\n",
       "    } else {\n",
       "      maybeLoadScript(\"vega\", \"5\")\n",
       "        .then(() => maybeLoadScript(\"vega-lite\", \"4.17.0\"))\n",
       "        .then(() => maybeLoadScript(\"vega-embed\", \"6\"))\n",
       "        .catch(showError)\n",
       "        .then(() => displayChart(vegaEmbed));\n",
       "    }\n",
       "  })({\"config\": {\"view\": {\"continuousWidth\": 400, \"continuousHeight\": 300}, \"mark\": {\"color\": \"#634f7d\"}}, \"data\": {\"name\": \"data-10babc3237ac6329606960eaac31f1cc\"}, \"mark\": \"bar\", \"encoding\": {\"x\": {\"field\": \"letter\", \"sort\": \"-y\", \"type\": \"nominal\"}, \"y\": {\"field\": \"occurences\", \"type\": \"quantitative\"}}, \"title\": {\"text\": \"Large Key Letter Distribution\", \"subtitle\": \"Count of the encrypted text\", \"anchor\": \"start\", \"dy\": -15, \"fontSize\": 15, \"subtitleFontSize\": 13}, \"$schema\": \"https://vega.github.io/schema/vega-lite/v4.17.0.json\", \"datasets\": {\"data-10babc3237ac6329606960eaac31f1cc\": [{\"letter\": \"q\", \"occurences\": 18067}, {\"letter\": \"e\", \"occurences\": 17985}, {\"letter\": \"s\", \"occurences\": 17960}, {\"letter\": \"h\", \"occurences\": 17952}, {\"letter\": \"a\", \"occurences\": 17923}, {\"letter\": \"y\", \"occurences\": 17914}, {\"letter\": \"d\", \"occurences\": 17911}, {\"letter\": \"c\", \"occurences\": 17894}, {\"letter\": \"t\", \"occurences\": 17870}, {\"letter\": \"b\", \"occurences\": 17863}, {\"letter\": \"k\", \"occurences\": 17829}, {\"letter\": \"z\", \"occurences\": 17818}, {\"letter\": \"o\", \"occurences\": 17792}, {\"letter\": \"x\", \"occurences\": 17792}, {\"letter\": \"i\", \"occurences\": 17775}, {\"letter\": \"u\", \"occurences\": 17773}, {\"letter\": \"p\", \"occurences\": 17764}, {\"letter\": \"n\", \"occurences\": 17758}, {\"letter\": \"g\", \"occurences\": 17733}, {\"letter\": \"l\", \"occurences\": 17723}, {\"letter\": \"m\", \"occurences\": 17710}, {\"letter\": \"f\", \"occurences\": 17648}, {\"letter\": \"v\", \"occurences\": 17638}, {\"letter\": \"w\", \"occurences\": 17635}, {\"letter\": \"r\", \"occurences\": 17616}, {\"letter\": \"j\", \"occurences\": 17605}]}}, {\"mode\": \"vega-lite\"});\n",
       "</script>"
      ],
      "text/plain": [
       "alt.Chart(...)"
      ]
     },
     "execution_count": 9,
     "metadata": {},
     "output_type": "execute_result"
    }
   ],
   "source": [
    "key = OneTimePad.generate(size=len(book))\n",
    "long_key_cipher = OneTimePad(key=key)\n",
    "encrypted = long_key_cipher.encrypt(book)\n",
    "\n",
    "klarge_counts = plot_letter_count(title=\"Large Key Letter Distribution\", subtitle=\"Count of the encrypted text\", text=encrypted).configure_mark(color=Colours.purple)\n",
    "klarge_counts"
   ]
  },
  {
   "cell_type": "code",
   "execution_count": 7,
   "id": "8b367cd2-b457-409d-b3da-de5a0683151e",
   "metadata": {},
   "outputs": [
    {
     "data": {
      "text/html": [
       "\n",
       "<div id=\"altair-viz-a7d236b489914d4aac978198105f2e5b\"></div>\n",
       "<script type=\"text/javascript\">\n",
       "  var VEGA_DEBUG = (typeof VEGA_DEBUG == \"undefined\") ? {} : VEGA_DEBUG;\n",
       "  (function(spec, embedOpt){\n",
       "    let outputDiv = document.currentScript.previousElementSibling;\n",
       "    if (outputDiv.id !== \"altair-viz-a7d236b489914d4aac978198105f2e5b\") {\n",
       "      outputDiv = document.getElementById(\"altair-viz-a7d236b489914d4aac978198105f2e5b\");\n",
       "    }\n",
       "    const paths = {\n",
       "      \"vega\": \"https://cdn.jsdelivr.net/npm//vega@5?noext\",\n",
       "      \"vega-lib\": \"https://cdn.jsdelivr.net/npm//vega-lib?noext\",\n",
       "      \"vega-lite\": \"https://cdn.jsdelivr.net/npm//vega-lite@4.17.0?noext\",\n",
       "      \"vega-embed\": \"https://cdn.jsdelivr.net/npm//vega-embed@6?noext\",\n",
       "    };\n",
       "\n",
       "    function maybeLoadScript(lib, version) {\n",
       "      var key = `${lib.replace(\"-\", \"\")}_version`;\n",
       "      return (VEGA_DEBUG[key] == version) ?\n",
       "        Promise.resolve(paths[lib]) :\n",
       "        new Promise(function(resolve, reject) {\n",
       "          var s = document.createElement('script');\n",
       "          document.getElementsByTagName(\"head\")[0].appendChild(s);\n",
       "          s.async = true;\n",
       "          s.onload = () => {\n",
       "            VEGA_DEBUG[key] = version;\n",
       "            return resolve(paths[lib]);\n",
       "          };\n",
       "          s.onerror = () => reject(`Error loading script: ${paths[lib]}`);\n",
       "          s.src = paths[lib];\n",
       "        });\n",
       "    }\n",
       "\n",
       "    function showError(err) {\n",
       "      outputDiv.innerHTML = `<div class=\"error\" style=\"color:red;\">${err}</div>`;\n",
       "      throw err;\n",
       "    }\n",
       "\n",
       "    function displayChart(vegaEmbed) {\n",
       "      vegaEmbed(outputDiv, spec, embedOpt)\n",
       "        .catch(err => showError(`Javascript Error: ${err.message}<br>This usually means there's a typo in your chart specification. See the javascript console for the full traceback.`));\n",
       "    }\n",
       "\n",
       "    if(typeof define === \"function\" && define.amd) {\n",
       "      requirejs.config({paths});\n",
       "      require([\"vega-embed\"], displayChart, err => showError(`Error loading script: ${err.message}`));\n",
       "    } else {\n",
       "      maybeLoadScript(\"vega\", \"5\")\n",
       "        .then(() => maybeLoadScript(\"vega-lite\", \"4.17.0\"))\n",
       "        .then(() => maybeLoadScript(\"vega-embed\", \"6\"))\n",
       "        .catch(showError)\n",
       "        .then(() => displayChart(vegaEmbed));\n",
       "    }\n",
       "  })({\"config\": {\"view\": {\"continuousWidth\": 400, \"continuousHeight\": 300}, \"mark\": {\"color\": \"#cc850a\"}}, \"data\": {\"name\": \"data-a76b21d3abe8565823049608e802c557\"}, \"mark\": \"bar\", \"encoding\": {\"x\": {\"field\": \"letter\", \"sort\": \"-y\", \"type\": \"nominal\"}, \"y\": {\"field\": \"occurences\", \"type\": \"quantitative\"}}, \"title\": {\"text\": \"Large Key Letter Distribution\", \"subtitle\": \"Count of Encryption Key itself\", \"anchor\": \"start\", \"dy\": -15, \"fontSize\": 15, \"subtitleFontSize\": 13}, \"$schema\": \"https://vega.github.io/schema/vega-lite/v4.17.0.json\", \"datasets\": {\"data-a76b21d3abe8565823049608e802c557\": [{\"letter\": \"h\", \"occurences\": 21756}, {\"letter\": \"a\", \"occurences\": 21718}, {\"letter\": \"q\", \"occurences\": 21596}, {\"letter\": \"d\", \"occurences\": 21589}, {\"letter\": \"g\", \"occurences\": 21580}, {\"letter\": \"x\", \"occurences\": 21559}, {\"letter\": \"t\", \"occurences\": 21527}, {\"letter\": \"j\", \"occurences\": 21506}, {\"letter\": \"c\", \"occurences\": 21499}, {\"letter\": \"v\", \"occurences\": 21489}, {\"letter\": \"b\", \"occurences\": 21480}, {\"letter\": \"y\", \"occurences\": 21470}, {\"letter\": \"i\", \"occurences\": 21440}, {\"letter\": \"w\", \"occurences\": 21439}, {\"letter\": \"o\", \"occurences\": 21438}, {\"letter\": \"z\", \"occurences\": 21422}, {\"letter\": \"u\", \"occurences\": 21414}, {\"letter\": \"k\", \"occurences\": 21404}, {\"letter\": \"l\", \"occurences\": 21365}, {\"letter\": \"e\", \"occurences\": 21352}, {\"letter\": \"f\", \"occurences\": 21349}, {\"letter\": \"m\", \"occurences\": 21334}, {\"letter\": \"n\", \"occurences\": 21320}, {\"letter\": \"p\", \"occurences\": 21273}, {\"letter\": \"r\", \"occurences\": 21248}, {\"letter\": \"s\", \"occurences\": 21034}]}}, {\"mode\": \"vega-lite\"});\n",
       "</script>"
      ],
      "text/plain": [
       "alt.Chart(...)"
      ]
     },
     "execution_count": 7,
     "metadata": {},
     "output_type": "execute_result"
    }
   ],
   "source": [
    "plot_letter_count(title=\"Large Key Letter Distribution\", subtitle=\"Count of Encryption Key itself\", text=key).configure_mark(color=Colours.orange)"
   ]
  },
  {
   "cell_type": "markdown",
   "id": "eba85b82-7dc7-4d90-8688-f857260bb4dd",
   "metadata": {},
   "source": [
    "# OneTimePad is impractical beacause...\n",
    "- The key has to be at least as long as the message one wants to transmit\n",
    "- For perfect secrecy one has to use a new key every time.\n",
    "- Alice and Bob have to make sure that they are the only ones that know the key. They cannot stablish a common key communicating through an insecure channel"
   ]
  },
  {
   "cell_type": "code",
   "execution_count": null,
   "id": "2eea1f97-6f74-4725-b2be-546b92cd0c3a",
   "metadata": {},
   "outputs": [],
   "source": []
  }
 ],
 "metadata": {
  "kernelspec": {
   "display_name": "Python 3 (ipykernel)",
   "language": "python",
   "name": "python3"
  },
  "language_info": {
   "codemirror_mode": {
    "name": "ipython",
    "version": 3
   },
   "file_extension": ".py",
   "mimetype": "text/x-python",
   "name": "python",
   "nbconvert_exporter": "python",
   "pygments_lexer": "ipython3",
   "version": "3.9.15"
  }
 },
 "nbformat": 4,
 "nbformat_minor": 5
}
