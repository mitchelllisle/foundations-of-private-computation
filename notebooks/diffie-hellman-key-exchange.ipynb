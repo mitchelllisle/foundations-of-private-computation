{
 "cells": [
  {
   "cell_type": "code",
   "execution_count": 1,
   "id": "3bcae66f-f8a7-471b-801b-62067f3aec84",
   "metadata": {},
   "outputs": [],
   "source": [
    "from privcomp import DiffieHellmanKeyExchange, Party"
   ]
  },
  {
   "cell_type": "code",
   "execution_count": 2,
   "id": "dcc51e15-862b-4fc1-85e9-a6e18ba6642e",
   "metadata": {},
   "outputs": [
    {
     "data": {
      "text/plain": [
       "(139, 3)"
      ]
     },
     "execution_count": 2,
     "metadata": {},
     "output_type": "execute_result"
    }
   ],
   "source": [
    "p, g = DiffieHellmanKeyExchange.generate_prime_generator_pair(8)\n",
    "p, g"
   ]
  },
  {
   "cell_type": "code",
   "execution_count": 3,
   "id": "2d823f75-56b1-420f-9c88-4f7e4f35a8ff",
   "metadata": {},
   "outputs": [],
   "source": [
    "alice = Party(\"alice\", p, g)\n",
    "bob = Party(\"bob\", p, g)"
   ]
  },
  {
   "cell_type": "code",
   "execution_count": 4,
   "id": "fcc18939-f16f-44bd-bea7-2d1502d2eac2",
   "metadata": {},
   "outputs": [],
   "source": [
    "diffhell = DiffieHellmanKeyExchange(parties = (alice, bob))"
   ]
  },
  {
   "cell_type": "code",
   "execution_count": 5,
   "id": "e46f1ee1-555e-4fc4-9aff-8e9ca7a74557",
   "metadata": {},
   "outputs": [
    {
     "name": "stdout",
     "output_type": "stream",
     "text": [
      "Party: alice\n",
      "p: 139\n",
      "g: 3\n",
      "a: 103\n",
      "A: 18\n",
      "s: None\n"
     ]
    }
   ],
   "source": [
    "print(diffhell.p1)"
   ]
  },
  {
   "cell_type": "code",
   "execution_count": 6,
   "id": "373737af-507e-4fd1-b50d-17c83283caa9",
   "metadata": {},
   "outputs": [
    {
     "name": "stdout",
     "output_type": "stream",
     "text": [
      "Party: bob\n",
      "p: 139\n",
      "g: 3\n",
      "a: 128\n",
      "A: 16\n",
      "s: None\n"
     ]
    }
   ],
   "source": [
    "print(diffhell.p2)"
   ]
  },
  {
   "cell_type": "code",
   "execution_count": 7,
   "id": "f52d05ef-3373-41c4-9f18-740f5491f005",
   "metadata": {},
   "outputs": [],
   "source": [
    "diffhell.exchange()"
   ]
  },
  {
   "cell_type": "code",
   "execution_count": 8,
   "id": "53c9e70d-37c2-4187-92b7-3eb8aa7448dd",
   "metadata": {},
   "outputs": [
    {
     "name": "stdout",
     "output_type": "stream",
     "text": [
      "Party: alice\n",
      "p: 139\n",
      "g: 3\n",
      "a: 103\n",
      "A: 18\n",
      "s: 35\n"
     ]
    }
   ],
   "source": [
    "print(diffhell.p1)"
   ]
  },
  {
   "cell_type": "code",
   "execution_count": 9,
   "id": "ba081fe3-007f-4c8c-84ec-025457bdf481",
   "metadata": {},
   "outputs": [
    {
     "name": "stdout",
     "output_type": "stream",
     "text": [
      "Party: bob\n",
      "p: 139\n",
      "g: 3\n",
      "a: 128\n",
      "A: 16\n",
      "s: 35\n"
     ]
    }
   ],
   "source": [
    "print(diffhell.p2)"
   ]
  },
  {
   "cell_type": "code",
   "execution_count": null,
   "id": "be5e0b89-d23a-46eb-9a90-06fc7efd395b",
   "metadata": {},
   "outputs": [],
   "source": []
  }
 ],
 "metadata": {
  "kernelspec": {
   "display_name": "Python 3 (ipykernel)",
   "language": "python",
   "name": "python3"
  },
  "language_info": {
   "codemirror_mode": {
    "name": "ipython",
    "version": 3
   },
   "file_extension": ".py",
   "mimetype": "text/x-python",
   "name": "python",
   "nbconvert_exporter": "python",
   "pygments_lexer": "ipython3",
   "version": "3.10.7"
  }
 },
 "nbformat": 4,
 "nbformat_minor": 5
}
